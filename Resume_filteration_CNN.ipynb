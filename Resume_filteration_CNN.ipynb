{
  "nbformat": 4,
  "nbformat_minor": 0,
  "metadata": {
    "colab": {
      "provenance": [],
      "include_colab_link": true
    },
    "kernelspec": {
      "name": "python3",
      "display_name": "Python 3"
    },
    "language_info": {
      "name": "python"
    }
  },
  "cells": [
    {
      "cell_type": "markdown",
      "metadata": {
        "id": "view-in-github",
        "colab_type": "text"
      },
      "source": [
        "<a href=\"https://colab.research.google.com/github/naveens01/Resume-filtration/blob/main/Resume_filteration_CNN.ipynb\" target=\"_parent\"><img src=\"https://colab.research.google.com/assets/colab-badge.svg\" alt=\"Open In Colab\"/></a>"
      ]
    },
    {
      "cell_type": "code",
      "execution_count": null,
      "metadata": {
        "colab": {
          "base_uri": "https://localhost:8080/"
        },
        "id": "NQDk9QYPOAdO",
        "outputId": "2842923c-bcfb-4547-c9f8-eca59c677686"
      },
      "outputs": [
        {
          "output_type": "stream",
          "name": "stdout",
          "text": [
            "Requirement already satisfied: tika in /usr/local/lib/python3.7/dist-packages (1.24)\n",
            "Requirement already satisfied: requests in /usr/local/lib/python3.7/dist-packages (from tika) (2.23.0)\n",
            "Requirement already satisfied: setuptools in /usr/local/lib/python3.7/dist-packages (from tika) (57.4.0)\n",
            "Requirement already satisfied: urllib3!=1.25.0,!=1.25.1,<1.26,>=1.21.1 in /usr/local/lib/python3.7/dist-packages (from requests->tika) (1.24.3)\n",
            "Requirement already satisfied: idna<3,>=2.5 in /usr/local/lib/python3.7/dist-packages (from requests->tika) (2.10)\n",
            "Requirement already satisfied: certifi>=2017.4.17 in /usr/local/lib/python3.7/dist-packages (from requests->tika) (2021.10.8)\n",
            "Requirement already satisfied: chardet<4,>=3.0.2 in /usr/local/lib/python3.7/dist-packages (from requests->tika) (3.0.4)\n"
          ]
        }
      ],
      "source": [
        "!pip install tika"
      ]
    },
    {
      "cell_type": "code",
      "source": [
        "from google.colab import drive\n",
        "drive.mount('/content/drive')"
      ],
      "metadata": {
        "colab": {
          "base_uri": "https://localhost:8080/"
        },
        "id": "91Q-L-S-OIQM",
        "outputId": "c46efb49-81ad-484a-fbbb-52d743c043c7"
      },
      "execution_count": null,
      "outputs": [
        {
          "output_type": "stream",
          "name": "stdout",
          "text": [
            "Drive already mounted at /content/drive; to attempt to forcibly remount, call drive.mount(\"/content/drive\", force_remount=True).\n"
          ]
        }
      ]
    },
    {
      "cell_type": "code",
      "source": [
        "import os"
      ],
      "metadata": {
        "id": "s4gFNrk0OOtk"
      },
      "execution_count": null,
      "outputs": []
    },
    {
      "cell_type": "code",
      "source": [
        "categories = []\n",
        "DATADIR = r'/content/drive/MyDrive/ResumeData'\n",
        "for directoryfile in os.listdir(DATADIR):\n",
        "    categories.append(directoryfile) #Append all the character's name as label in 'CATEGORIES'\n",
        "print(len(categories))"
      ],
      "metadata": {
        "colab": {
          "base_uri": "https://localhost:8080/"
        },
        "id": "p8-0NDzWOSt9",
        "outputId": "0af876b2-04d5-417d-fbe5-ebfef43b63ce"
      },
      "execution_count": null,
      "outputs": [
        {
          "output_type": "stream",
          "name": "stdout",
          "text": [
            "127\n"
          ]
        }
      ]
    },
    {
      "cell_type": "code",
      "source": [
        "print(categories)"
      ],
      "metadata": {
        "colab": {
          "base_uri": "https://localhost:8080/"
        },
        "id": "dlRHULJjOUdc",
        "outputId": "20179c27-1e0c-4a97-d8d8-040080b6b70d"
      },
      "execution_count": null,
      "outputs": [
        {
          "output_type": "stream",
          "name": "stdout",
          "text": [
            "['1.pdf', '2.pdf', '3.pdf', '4.doc', '7.docx', '8.pdf', '9.doc', '10.docx', '11.doc', '12.pdf', '13.doc', '15.pdf', '16.pdf', '18.docx', '19.pdf', '20.docx', '21.docx', '22.pdf', '23.docx', '24.pdf', '25.doc', '26.doc', '27.docx', '28.pdf', '29.pdf', '30.pdf', '31.pdf', '32.doc', '33.pdf', '34.pdf', '35.docx', '36.pdf', '38.doc', '39.docx', '40.pdf', '41.pdf', '42.docx', '43.pdf', '44.pdf', '45.pdf', '46.docx', '47.pdf', '48.doc', '49.doc', '50.docx', '51.pdf', '52.docx', '53.doc', '54.pdf', '56.pdf', '57.docx', '58.pdf', '60.docx', '61.docx', '62.pdf', '64.pdf', '66.pdf', '68.pdf', '69.docx', '70.pdf', '71.docx', '72.pdf', '74.pdf', '75.pdf', '76.pdf', '77.docx', '78.doc', '79.docx', '80.docx', '81.docx', '82.docx', '83.docx', '84.pdf', '86.docx', '87.pdf', '89.pdf', '90.docx', '91.pdf', '92.pdf', '93.doc', '94.pdf', '95.pdf', '97.docx', '98.pdf', '99.pdf', '100.pdf', '101.pdf', '102.docx', '104.docx', '105.pdf', '108.doc', '109.doc', '111.pdf', '112.docx', '113.doc', '114.docx', '115.pdf', '116.pdf', '117.docx', '118.doc', '119.pdf', '120.pdf', '122.docx', '123.pdf', '124.docx', '127.docx', '128.doc', '130.pdf', '131.docx', '132.docx', '133.pdf', '134.doc', '135.docx', '138.pdf', '139.pdf', '141.docx', '142.docx', '143.docx', '145.docx', '148.pdf', '149.pdf', '150.docx', '151.pdf', '152.pdf', '153.pdf', '154.docx', '155.pdf']\n"
          ]
        }
      ]
    },
    {
      "cell_type": "code",
      "source": [
        "terms = {'Arts':['B.B.M','Bachelor of Commerce','B.C.A','BCA','B.Com','B.com','B.B.A','b.a (Eng.lit)','BBA','BACHELOR OF SCIENCE','B.COM','B.A','B,Com','B,com','BACHEOLAR OF BUSINESS ADMINISTRATION','Bachelor of Business Administration with Computer Application','B B A','B. COM','BACHELOR   OF   BUSINESS MANAGEMENT (BBM)','bachelor of computer applications'],\n",
        "        'Engineering':['B.E','B.Tech.','M.E.','Bachelor of Engineering','BE (ECE)','BE','B.Tech','BE Mechanical','DIPLAMO IN CHEMICAL ENGINEERING','Bachelor of Engineering (B.E)','B.E(EEE)','DCE','BTech Information technology','Bachelor’s degree in Electronics & Instrumentation Engineering','Bachlor of Engineering: Mechanical Engineering','DME','B. E in electrics communication engineering','ELECTRONICS AND COMMUNICATION ENGINEERING'],\n",
        "        'Science':['Bsc','Msc','B.SC','M.SC','B.Sc','M.Sc','BSc','MSc','B.Sc.,','B.Sc(Maths)','Bachelor of Science','Bachelor of Computer Science','Bachelor of sciences(Botany)','Bachelor Science Degree in Computer Science','B.sc physics','B.S.C (CS)[Bharathiyar University]']}"
      ],
      "metadata": {
        "id": "YvsvWhB_OXf2"
      },
      "execution_count": null,
      "outputs": []
    },
    {
      "cell_type": "code",
      "source": [
        "directory1 = \"Engineering\"\n",
        "directory2=\"Arts\"\n",
        "directory3=\"Science\"\n",
        "\n",
        "# Parent Directory path\n",
        "parent_dir = '/content/drive/MyDrive/ResumeData1'\n",
        "\n",
        "path1 = os.path.join(parent_dir, directory1)\n",
        "path2 = os.path.join(parent_dir, directory2)\n",
        "path3 = os.path.join(parent_dir, directory3)\n",
        "os.mkdir(path1)\n",
        "os.mkdir(path2)\n",
        "os.mkdir(path3)\n",
        "#print(\"Directory '% s' created\" % directory1)"
      ],
      "metadata": {
        "colab": {
          "base_uri": "https://localhost:8080/",
          "height": 235
        },
        "id": "PxiuRLhrAKdL",
        "outputId": "109fd3ad-e156-415d-ed55-9223e2b343c1"
      },
      "execution_count": null,
      "outputs": [
        {
          "output_type": "error",
          "ename": "FileExistsError",
          "evalue": "ignored",
          "traceback": [
            "\u001b[0;31m---------------------------------------------------------------------------\u001b[0m",
            "\u001b[0;31mFileExistsError\u001b[0m                           Traceback (most recent call last)",
            "\u001b[0;32m<ipython-input-7-a32cc598d052>\u001b[0m in \u001b[0;36m<module>\u001b[0;34m()\u001b[0m\n\u001b[1;32m      9\u001b[0m \u001b[0mpath2\u001b[0m \u001b[0;34m=\u001b[0m \u001b[0mos\u001b[0m\u001b[0;34m.\u001b[0m\u001b[0mpath\u001b[0m\u001b[0;34m.\u001b[0m\u001b[0mjoin\u001b[0m\u001b[0;34m(\u001b[0m\u001b[0mparent_dir\u001b[0m\u001b[0;34m,\u001b[0m \u001b[0mdirectory2\u001b[0m\u001b[0;34m)\u001b[0m\u001b[0;34m\u001b[0m\u001b[0;34m\u001b[0m\u001b[0m\n\u001b[1;32m     10\u001b[0m \u001b[0mpath3\u001b[0m \u001b[0;34m=\u001b[0m \u001b[0mos\u001b[0m\u001b[0;34m.\u001b[0m\u001b[0mpath\u001b[0m\u001b[0;34m.\u001b[0m\u001b[0mjoin\u001b[0m\u001b[0;34m(\u001b[0m\u001b[0mparent_dir\u001b[0m\u001b[0;34m,\u001b[0m \u001b[0mdirectory3\u001b[0m\u001b[0;34m)\u001b[0m\u001b[0;34m\u001b[0m\u001b[0;34m\u001b[0m\u001b[0m\n\u001b[0;32m---> 11\u001b[0;31m \u001b[0mos\u001b[0m\u001b[0;34m.\u001b[0m\u001b[0mmkdir\u001b[0m\u001b[0;34m(\u001b[0m\u001b[0mpath1\u001b[0m\u001b[0;34m)\u001b[0m\u001b[0;34m\u001b[0m\u001b[0;34m\u001b[0m\u001b[0m\n\u001b[0m\u001b[1;32m     12\u001b[0m \u001b[0mos\u001b[0m\u001b[0;34m.\u001b[0m\u001b[0mmkdir\u001b[0m\u001b[0;34m(\u001b[0m\u001b[0mpath2\u001b[0m\u001b[0;34m)\u001b[0m\u001b[0;34m\u001b[0m\u001b[0;34m\u001b[0m\u001b[0m\n\u001b[1;32m     13\u001b[0m \u001b[0mos\u001b[0m\u001b[0;34m.\u001b[0m\u001b[0mmkdir\u001b[0m\u001b[0;34m(\u001b[0m\u001b[0mpath3\u001b[0m\u001b[0;34m)\u001b[0m\u001b[0;34m\u001b[0m\u001b[0;34m\u001b[0m\u001b[0m\n",
            "\u001b[0;31mFileExistsError\u001b[0m: [Errno 17] File exists: '/content/drive/MyDrive/ResumeData1/Engineering'"
          ]
        }
      ]
    },
    {
      "cell_type": "code",
      "source": [
        "from tika import parser # pip install tika\n",
        "import shutil\n",
        "ResumeDataset={}\n",
        "AreaDataset={}\n",
        "i=0\n",
        "for category in categories:\n",
        "  path = os.path.join(DATADIR, category)\n",
        "  print(path)\n",
        "  filename=category\n",
        "  print(filename)\n",
        "  #for file in os.listdir(path):\n",
        "  raw = parser.from_file(path)\n",
        "  text = raw['content']\n",
        "  ResumeDataset[category]=text\n",
        "  print(ResumeDataset[category])\n",
        "  for area in terms.keys():\n",
        "    if area == 'Arts':\n",
        "        for word in terms[area]:\n",
        "            if word in ResumeDataset[category]:\n",
        "              print(\"ARTS\")\n",
        "              AreaDataset[category]=area\n",
        "              shutil.copy(path, '/content/drive/MyDrive/ResumeData1/Arts')\n",
        "    if area == 'Engineering':\n",
        "        for word in terms[area]:\n",
        "            if word in ResumeDataset[category]:\n",
        "              print(\"Engineering\")\n",
        "              AreaDataset[category]=area\n",
        "              shutil.copy(path, '/content/drive/MyDrive/ResumeData1/Engineering')\n",
        "    if area == 'Science':\n",
        "        for word in terms[area]:\n",
        "            if word in ResumeDataset[category]:\n",
        "              print(\"Science\")\n",
        "              AreaDataset[category]=area\n",
        "              shutil.copy(path, '/content/drive/MyDrive/ResumeData1/Science')\n",
        "    else: print(\"none\")"
      ],
      "metadata": {
        "id": "KlpjKSisOZ_8"
      },
      "execution_count": null,
      "outputs": []
    },
    {
      "cell_type": "code",
      "source": [],
      "metadata": {
        "id": "fmM2C2oOCUXy"
      },
      "execution_count": null,
      "outputs": []
    },
    {
      "cell_type": "code",
      "source": [
        "print(AreaDataset)"
      ],
      "metadata": {
        "colab": {
          "base_uri": "https://localhost:8080/"
        },
        "id": "j6HDWJWFOgr8",
        "outputId": "c171410d-bb56-41fe-fe16-e27067cf4545"
      },
      "execution_count": null,
      "outputs": [
        {
          "output_type": "stream",
          "name": "stdout",
          "text": [
            "{'1.pdf': 'Science', '2.pdf': 'Engineering', '3.pdf': 'Engineering', '4.doc': 'Arts', '7.docx': 'Engineering', '8.pdf': 'Arts', '9.doc': 'Engineering', '10.docx': 'Engineering', '11.doc': 'Engineering', '12.pdf': 'Engineering', '13.doc': 'Engineering', '15.pdf': 'Engineering', '16.pdf': 'Science', '18.docx': 'Engineering', '19.pdf': 'Arts', '20.docx': 'Arts', '21.docx': 'Arts', '22.pdf': 'Engineering', '23.docx': 'Arts', '24.pdf': 'Engineering', '25.doc': 'Engineering', '26.doc': 'Science', '27.docx': 'Engineering', '28.pdf': 'Engineering', '29.pdf': 'Science', '30.pdf': 'Arts', '31.pdf': 'Arts', '32.doc': 'Arts', '33.pdf': 'Arts', '34.pdf': 'Arts', '35.docx': 'Science', '36.pdf': 'Engineering', '38.doc': 'Science', '39.docx': 'Science', '40.pdf': 'Arts', '41.pdf': 'Engineering', '42.docx': 'Science', '43.pdf': 'Engineering', '44.pdf': 'Arts', '45.pdf': 'Engineering', '46.docx': 'Arts', '47.pdf': 'Engineering', '48.doc': 'Science', '49.doc': 'Engineering', '50.docx': 'Engineering', '51.pdf': 'Arts', '52.docx': 'Science', '53.doc': 'Arts', '54.pdf': 'Engineering', '56.pdf': 'Science', '57.docx': 'Engineering', '58.pdf': 'Engineering', '60.docx': 'Engineering', '61.docx': 'Engineering', '62.pdf': 'Engineering', '64.pdf': 'Arts', '66.pdf': 'Engineering', '68.pdf': 'Engineering', '69.docx': 'Arts', '70.pdf': 'Arts', '71.docx': 'Science', '72.pdf': 'Engineering', '74.pdf': 'Science', '75.pdf': 'Science', '76.pdf': 'Arts', '77.docx': 'Engineering', '78.doc': 'Engineering', '79.docx': 'Engineering', '80.docx': 'Arts', '81.docx': 'Science', '82.docx': 'Engineering', '83.docx': 'Arts', '84.pdf': 'Science', '86.docx': 'Arts', '87.pdf': 'Science', '89.pdf': 'Science', '90.docx': 'Arts', '91.pdf': 'Engineering', '92.pdf': 'Engineering', '93.doc': 'Engineering', '94.pdf': 'Arts', '95.pdf': 'Arts', '97.docx': 'Engineering', '98.pdf': 'Arts', '99.pdf': 'Engineering', '100.pdf': 'Engineering', '101.pdf': 'Engineering', '102.docx': 'Engineering', '104.docx': 'Arts', '105.pdf': 'Arts', '108.doc': 'Engineering', '109.doc': 'Science', '111.pdf': 'Science', '112.docx': 'Arts', '113.doc': 'Engineering', '114.docx': 'Engineering', '115.pdf': 'Science', '116.pdf': 'Engineering', '117.docx': 'Engineering', '118.doc': 'Arts', '119.pdf': 'Science', '120.pdf': 'Science', '122.docx': 'Science', '123.pdf': 'Engineering', '124.docx': 'Engineering', '127.docx': 'Arts', '128.doc': 'Arts', '130.pdf': 'Arts', '131.docx': 'Arts', '132.docx': 'Arts', '133.pdf': 'Science', '134.doc': 'Engineering', '135.docx': 'Arts', '138.pdf': 'Arts', '139.pdf': 'Engineering', '141.docx': 'Engineering', '142.docx': 'Science', '143.docx': 'Engineering', '145.docx': 'Arts', '148.pdf': 'Science', '149.pdf': 'Science', '150.docx': 'Engineering', '151.pdf': 'Arts', '152.pdf': 'Engineering', '153.pdf': 'Arts', '154.docx': 'Arts', '155.pdf': 'Arts'}\n"
          ]
        }
      ]
    },
    {
      "cell_type": "code",
      "source": [
        "print(len(AreaDataset))"
      ],
      "metadata": {
        "colab": {
          "base_uri": "https://localhost:8080/"
        },
        "id": "iyjng2axOhg8",
        "outputId": "35cc16f1-61ea-42d8-9caa-93289d2fa8f5"
      },
      "execution_count": null,
      "outputs": [
        {
          "output_type": "stream",
          "name": "stdout",
          "text": [
            "127\n"
          ]
        }
      ]
    },
    {
      "cell_type": "code",
      "source": [
        "df = {'Category':AreaDataset,\n",
        "        'ResumeData':ResumeDataset[category]}"
      ],
      "metadata": {
        "id": "KNQJ_HsMOmzL"
      },
      "execution_count": null,
      "outputs": []
    },
    {
      "cell_type": "code",
      "source": [
        "import pandas as pd"
      ],
      "metadata": {
        "id": "R-CeShbcOvP9"
      },
      "execution_count": null,
      "outputs": []
    },
    {
      "cell_type": "code",
      "source": [
        "data=pd.DataFrame(df)"
      ],
      "metadata": {
        "id": "zqufSjGdOzWk"
      },
      "execution_count": null,
      "outputs": []
    },
    {
      "cell_type": "code",
      "source": [
        "print(len(data))"
      ],
      "metadata": {
        "colab": {
          "base_uri": "https://localhost:8080/",
          "height": 166
        },
        "id": "jqPimZTaO4YK",
        "outputId": "4e8964f2-0942-4162-a172-5bf94340e2f8"
      },
      "execution_count": null,
      "outputs": [
        {
          "output_type": "error",
          "ename": "NameError",
          "evalue": "ignored",
          "traceback": [
            "\u001b[0;31m---------------------------------------------------------------------------\u001b[0m",
            "\u001b[0;31mNameError\u001b[0m                                 Traceback (most recent call last)",
            "\u001b[0;32m<ipython-input-1-356743ee24d0>\u001b[0m in \u001b[0;36m<module>\u001b[0;34m()\u001b[0m\n\u001b[0;32m----> 1\u001b[0;31m \u001b[0mprint\u001b[0m\u001b[0;34m(\u001b[0m\u001b[0mlen\u001b[0m\u001b[0;34m(\u001b[0m\u001b[0mdata\u001b[0m\u001b[0;34m)\u001b[0m\u001b[0;34m)\u001b[0m\u001b[0;34m\u001b[0m\u001b[0;34m\u001b[0m\u001b[0m\n\u001b[0m",
            "\u001b[0;31mNameError\u001b[0m: name 'data' is not defined"
          ]
        }
      ]
    },
    {
      "cell_type": "code",
      "source": [
        "import seaborn as sns\n",
        "import matplotlib.pyplot as plt\n",
        "plt.figure(figsize=(15,15))\n",
        "plt.xticks(rotation=90)\n",
        "sns.countplot(y=\"Category\", data=data)"
      ],
      "metadata": {
        "colab": {
          "base_uri": "https://localhost:8080/",
          "height": 897
        },
        "id": "r_CIIvQ1O8C7",
        "outputId": "6f197d42-4be5-40bb-8206-e1aff9dd8b9e"
      },
      "execution_count": null,
      "outputs": [
        {
          "output_type": "execute_result",
          "data": {
            "text/plain": [
              "<matplotlib.axes._subplots.AxesSubplot at 0x7fc0aadc4f90>"
            ]
          },
          "metadata": {},
          "execution_count": 15
        },
        {
          "output_type": "display_data",
          "data": {
            "image/png": "[encoded data removed]",
            "text/plain": [
              "<Figure size 1080x1080 with 1 Axes>"
            ]
          },
          "metadata": {
            "needs_background": "light"
          }
        }
      ]
    },
    {
      "cell_type": "code",
      "source": [
        "import re\n",
        "import string\n"
      ],
      "metadata": {
        "id": "gzUcCVfa8PG3"
      },
      "execution_count": null,
      "outputs": []
    },
    {
      "cell_type": "code",
      "source": [
        "count=data[\"Category\"].value_counts()"
      ],
      "metadata": {
        "id": "eSocUWkp9Zoc"
      },
      "execution_count": null,
      "outputs": []
    },
    {
      "cell_type": "code",
      "source": [
        "countFinal = [count[0],count[1],count[2]]\n",
        "countFinal"
      ],
      "metadata": {
        "colab": {
          "base_uri": "https://localhost:8080/"
        },
        "id": "fQCDs4DAGgLv",
        "outputId": "9e9a1f6d-ea29-4be5-8261-0ddad47a7ccc"
      },
      "execution_count": null,
      "outputs": [
        {
          "output_type": "execute_result",
          "data": {
            "text/plain": [
              "[56, 43, 28]"
            ]
          },
          "metadata": {},
          "execution_count": 27
        }
      ]
    },
    {
      "cell_type": "code",
      "source": [],
      "metadata": {
        "id": "3V9MAk02LSEG"
      },
      "execution_count": null,
      "outputs": []
    },
    {
      "cell_type": "code",
      "source": [
        "Summary_Data=pd.DataFrame(countFinal,index=terms.keys(),columns=['Count']).sort_values(by='Count',ascending=False)\n",
        "Summary_Data"
      ],
      "metadata": {
        "colab": {
          "base_uri": "https://localhost:8080/",
          "height": 143
        },
        "id": "8x360J2TF6RT",
        "outputId": "d7a47097-8a08-4613-a61d-7a9ef24ee793"
      },
      "execution_count": null,
      "outputs": [
        {
          "output_type": "execute_result",
          "data": {
            "text/html": [
              "\n",
              "  <div id=\"df-afb23cdd-8126-4deb-868f-ff7a24fc6647\">\n",
              "    <div class=\"colab-df-container\">\n",
              "      <div>\n",
              "<style scoped>\n",
              "    .dataframe tbody tr th:only-of-type {\n",
              "        vertical-align: middle;\n",
              "    }\n",
              "\n",
              "    .dataframe tbody tr th {\n",
              "        vertical-align: top;\n",
              "    }\n",
              "\n",
              "    .dataframe thead th {\n",
              "        text-align: right;\n",
              "    }\n",
              "</style>\n",
              "<table border=\"1\" class=\"dataframe\">\n",
              "  <thead>\n",
              "    <tr style=\"text-align: right;\">\n",
              "      <th></th>\n",
              "      <th>Count</th>\n",
              "    </tr>\n",
              "  </thead>\n",
              "  <tbody>\n",
              "    <tr>\n",
              "      <th>Arts</th>\n",
              "      <td>56</td>\n",
              "    </tr>\n",
              "    <tr>\n",
              "      <th>Engineering</th>\n",
              "      <td>43</td>\n",
              "    </tr>\n",
              "    <tr>\n",
              "      <th>Science</th>\n",
              "      <td>28</td>\n",
              "    </tr>\n",
              "  </tbody>\n",
              "</table>\n",
              "</div>\n",
              "      <button class=\"colab-df-convert\" onclick=\"convertToInteractive('df-afb23cdd-8126-4deb-868f-ff7a24fc6647')\"\n",
              "              title=\"Convert this dataframe to an interactive table.\"\n",
              "              style=\"display:none;\">\n",
              "        \n",
              "  <svg xmlns=\"http://www.w3.org/2000/svg\" height=\"24px\"viewBox=\"0 0 24 24\"\n",
              "       width=\"24px\">\n",
              "    <path d=\"M0 0h24v24H0V0z\" fill=\"none\"/>\n",
              "    <path d=\"M18.56 5.44l.94 2.06.94-2.06 2.06-.94-2.06-.94-.94-2.06-.94 2.06-2.06.94zm-11 1L8.5 8.5l.94-2.06 2.06-.94-2.06-.94L8.5 2.5l-.94 2.06-2.06.94zm10 10l.94 2.06.94-2.06 2.06-.94-2.06-.94-.94-2.06-.94 2.06-2.06.94z\"/><path d=\"M17.41 7.96l-1.37-1.37c-.4-.4-.92-.59-1.43-.59-.52 0-1.04.2-1.43.59L10.3 9.45l-7.72 7.72c-.78.78-.78 2.05 0 2.83L4 21.41c.39.39.9.59 1.41.59.51 0 1.02-.2 1.41-.59l7.78-7.78 2.81-2.81c.8-.78.8-2.07 0-2.86zM5.41 20L4 18.59l7.72-7.72 1.47 1.35L5.41 20z\"/>\n",
              "  </svg>\n",
              "      </button>\n",
              "      \n",
              "  <style>\n",
              "    .colab-df-container {\n",
              "      display:flex;\n",
              "      flex-wrap:wrap;\n",
              "      gap: 12px;\n",
              "    }\n",
              "\n",
              "    .colab-df-convert {\n",
              "      background-color: #E8F0FE;\n",
              "      border: none;\n",
              "      border-radius: 50%;\n",
              "      cursor: pointer;\n",
              "      display: none;\n",
              "      fill: #1967D2;\n",
              "      height: 32px;\n",
              "      padding: 0 0 0 0;\n",
              "      width: 32px;\n",
              "    }\n",
              "\n",
              "    .colab-df-convert:hover {\n",
              "      background-color: #E2EBFA;\n",
              "      box-shadow: 0px 1px 2px rgba(60, 64, 67, 0.3), 0px 1px 3px 1px rgba(60, 64, 67, 0.15);\n",
              "      fill: #174EA6;\n",
              "    }\n",
              "\n",
              "    [theme=dark] .colab-df-convert {\n",
              "      background-color: #3B4455;\n",
              "      fill: #D2E3FC;\n",
              "    }\n",
              "\n",
              "    [theme=dark] .colab-df-convert:hover {\n",
              "      background-color: #434B5C;\n",
              "      box-shadow: 0px 1px 3px 1px rgba(0, 0, 0, 0.15);\n",
              "      filter: drop-shadow(0px 1px 2px rgba(0, 0, 0, 0.3));\n",
              "      fill: #FFFFFF;\n",
              "    }\n",
              "  </style>\n",
              "\n",
              "      <script>\n",
              "        const buttonEl =\n",
              "          document.querySelector('#df-afb23cdd-8126-4deb-868f-ff7a24fc6647 button.colab-df-convert');\n",
              "        buttonEl.style.display =\n",
              "          google.colab.kernel.accessAllowed ? 'block' : 'none';\n",
              "\n",
              "        async function convertToInteractive(key) {\n",
              "          const element = document.querySelector('#df-afb23cdd-8126-4deb-868f-ff7a24fc6647');\n",
              "          const dataTable =\n",
              "            await google.colab.kernel.invokeFunction('convertToInteractive',\n",
              "                                                     [key], {});\n",
              "          if (!dataTable) return;\n",
              "\n",
              "          const docLinkHtml = 'Like what you see? Visit the ' +\n",
              "            '<a target=\"_blank\" href=https://colab.research.google.com/notebooks/data_table.ipynb>data table notebook</a>'\n",
              "            + ' to learn more about interactive tables.';\n",
              "          element.innerHTML = '';\n",
              "          dataTable['output_type'] = 'display_data';\n",
              "          await google.colab.output.renderOutput(dataTable, element);\n",
              "          const docLink = document.createElement('div');\n",
              "          docLink.innerHTML = docLinkHtml;\n",
              "          element.appendChild(docLink);\n",
              "        }\n",
              "      </script>\n",
              "    </div>\n",
              "  </div>\n",
              "  "
            ],
            "text/plain": [
              "             Count\n",
              "Arts            56\n",
              "Engineering     43\n",
              "Science         28"
            ]
          },
          "metadata": {},
          "execution_count": 36
        }
      ]
    },
    {
      "cell_type": "code",
      "source": [
        "pie = plt.figure(figsize=(10,10))\n",
        "plt.pie(Summary_Data['Count'], labels=Summary_Data.index, explode = (0.1,0,0,), autopct='%1.0f%%',shadow=True,startangle=90)\n",
        "plt.title('Resume Decomposition by Areas')\n",
        "plt.axis('equal')\n",
        "plt.show()\n",
        "\n",
        "# Save pie chart as a .png file\n",
        "pie.savefig('/content/drive/MyDrive/ResumeData1/Resume_Decomposition.png')"
      ],
      "metadata": {
        "colab": {
          "base_uri": "https://localhost:8080/",
          "height": 591
        },
        "id": "AK6l6onRFKgH",
        "outputId": "211b852f-4221-4bbd-f6a3-81b919ddde92"
      },
      "execution_count": null,
      "outputs": [
        {
          "output_type": "display_data",
          "data": {
            "image/png": "[encoded data removed]",
            "text/plain": [
              "<Figure size 720x720 with 1 Axes>"
            ]
          },
          "metadata": {}
        }
      ]
    }
  ]
}